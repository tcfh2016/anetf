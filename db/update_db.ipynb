{
 "cells": [
  {
   "cell_type": "markdown",
   "metadata": {},
   "source": [
    "## 删除最近更新的错误数据\n",
    "\n",
    "- 不少ETF的估值数据源为“韭圈儿”，但因为接口更新，导致24-07-07之后的数据源变更为“中证指数”或者“国证指数”\n",
    "- 更新了akshare版本之后，需要刷新数据源"
   ]
  },
  {
   "cell_type": "code",
   "execution_count": 22,
   "metadata": {},
   "outputs": [
    {
     "name": "stdout",
     "output_type": "stream",
     "text": [
      "399001.csv\n",
      "399006.csv\n",
      "399102.csv\n",
      "399296.csv\n",
      "399303.csv\n",
      "399324.csv\n",
      "399330.csv\n",
      "399438.csv\n",
      "399673.csv\n",
      "980015.csv\n",
      "980017.csv\n",
      "980032.csv\n"
     ]
    }
   ],
   "source": [
    "import os\n",
    "import pandas as pd\n",
    "\n",
    "files = os.listdir()\n",
    "for file in files:\n",
    "    if not file.endswith('csv'):\n",
    "        continue\n",
    "    \n",
    "    dtypes = {'指数代码':str}\n",
    "    df = pd.read_csv(file, dtype=dtypes)\n",
    "    \n",
    "    if df.iloc[0]['数据源'] == '韭圈儿' and df.iloc[-1]['数据源'] == '国证指数':\n",
    "        df = df[df['数据源'] == '韭圈儿']\n",
    "        print(file)\n",
    "        df.to_csv(file, index=False)\n"
   ]
  }
 ],
 "metadata": {
  "kernelspec": {
   "display_name": "Python 3",
   "language": "python",
   "name": "python3"
  },
  "language_info": {
   "codemirror_mode": {
    "name": "ipython",
    "version": 3
   },
   "file_extension": ".py",
   "mimetype": "text/x-python",
   "name": "python",
   "nbconvert_exporter": "python",
   "pygments_lexer": "ipython3",
   "version": "3.12.5"
  }
 },
 "nbformat": 4,
 "nbformat_minor": 2
}
